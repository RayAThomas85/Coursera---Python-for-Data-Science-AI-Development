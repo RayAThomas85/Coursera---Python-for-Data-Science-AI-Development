{
  "metadata": {
    "language_info": {
      "codemirror_mode": {
        "name": "python",
        "version": 3
      },
      "file_extension": ".py",
      "mimetype": "text/x-python",
      "name": "python",
      "nbconvert_exporter": "python",
      "pygments_lexer": "ipython3",
      "version": "3.8"
    },
    "kernelspec": {
      "name": "python",
      "display_name": "Pyolite",
      "language": "python"
    },
    "colab": {
      "provenance": [],
      "include_colab_link": true
    }
  },
  "nbformat_minor": 0,
  "nbformat": 4,
  "cells": [
    {
      "cell_type": "markdown",
      "metadata": {
        "id": "view-in-github",
        "colab_type": "text"
      },
      "source": [
        "<a href=\"https://colab.research.google.com/github/RayAThomas85/Coursera---Python-for-Data-Science-AI-Development/blob/main/PY0101EN_2_4_Dictionaries.ipynb\" target=\"_parent\"><img src=\"https://colab.research.google.com/assets/colab-badge.svg\" alt=\"Open In Colab\"/></a>"
      ]
    },
    {
      "cell_type": "markdown",
      "source": [
        "<center>\n",
        "    <img src=\"https://cf-courses-data.s3.us.cloud-object-storage.appdomain.cloud/IBMDeveloperSkillsNetwork-PY0101EN-SkillsNetwork/IDSNlogo.png\" width=\"300\" alt=\"cognitiveclass.ai logo\">\n",
        "</center>\n",
        "\n",
        "# Dictionaries in Python\n",
        "\n",
        "Estimated time needed: **25** minutes\n",
        "\n",
        "## Objectives\n",
        "\n",
        "After completing this lab you will be able to:\n",
        "\n",
        "*  Create a Dictionary and perform operations on the Dictionary\n"
      ],
      "metadata": {
        "id": "ulPs6IVKFhOT"
      }
    },
    {
      "cell_type": "markdown",
      "source": [
        "<h2>Table of Contents</h2>\n",
        "<div class=\"alert alert-block alert-info\" style=\"margin-top: 20px\">\n",
        "    <ul>\n",
        "        <li>\n",
        "            <a href=\"#dic\">Dictionaries</a>\n",
        "            <ul>\n",
        "                <li><a href=\"#content\">What are Dictionaries?</a></li>\n",
        "                <li><a href=\"#keys\">Keys</a></li>\n",
        "            </ul>\n",
        "        </li>\n",
        "        <li>\n",
        "            <a href=\"#quiz\">Quiz on Dictionaries</a>\n",
        "        </li>\n",
        "        <li>\n",
        "            <a href=\"#Scenario\">Scenario</a>\n",
        "        </li>\n",
        "    </ul>\n",
        "\n",
        "</div>\n",
        "\n",
        "<hr>\n"
      ],
      "metadata": {
        "id": "QmN86aSzFhOX"
      }
    },
    {
      "cell_type": "markdown",
      "source": [
        "<a id=\"dic\"></a>\n",
        "## Dictionaries\n"
      ],
      "metadata": {
        "id": "7J5qRmuQFhOX"
      }
    },
    {
      "cell_type": "markdown",
      "source": [
        "<a id=\"content\"></a>\n",
        "## What are Dictionaries?\n"
      ],
      "metadata": {
        "id": "D-NO5nchFhOY"
      }
    },
    {
      "cell_type": "markdown",
      "source": [
        "A dictionary consists of keys and values. It is helpful to compare a dictionary to a list. Instead of being indexed numerically like a list, dictionaries have keys. These keys are the keys that are used to access values within a dictionary.\n",
        "\n",
        "\n",
        "The best example of a dictionary can be accessing person's detais using the **social security number**.\n",
        "Here the social security number which is a unique number will be the **key** and the details of the people will be the **values** associated with it.\n"
      ],
      "metadata": {
        "id": "G2ZBEsZgFhOY"
      }
    },
    {
      "cell_type": "markdown",
      "source": [
        "<img src=\"https://cf-courses-data.s3.us.cloud-object-storage.appdomain.cloud/IBMDeveloperSkillsNetwork-PY0101EN-SkillsNetwork/labs/Module%202/images/DictsList.png\" width=\"650\">\n"
      ],
      "metadata": {
        "id": "4LOgXxYjFhOZ"
      }
    },
    {
      "cell_type": "markdown",
      "source": [
        "### Create a Dictionary and access the elements\n"
      ],
      "metadata": {
        "id": "Cwbyma10FhOa"
      }
    },
    {
      "cell_type": "markdown",
      "source": [
        "An example of a Dictionary <code>Dict</code>:\n",
        "Here we are creating a dictionary named **Dict** with he following details\n",
        "\n",
        "* Keys are **key1, key2, key3, key4, key5**.\n",
        "* Values are {1,2,[3,3,3],(4,4,4),5,(0,1):6} corresponding to the keys\n"
      ],
      "metadata": {
        "id": "S25hqA9QFhOa"
      }
    },
    {
      "cell_type": "code",
      "source": [
        "# Create the dictionary\n",
        "\n",
        "Dict = {\"key1\": 1, \"key2\": \"2\", \"key3\": [3, 3, 3], \"key4\": (4, 4, 4), ('key5'): 5, (0, 1): 6}\n",
        "Dict"
      ],
      "metadata": {
        "trusted": true,
        "id": "HJlwJFDuFhOb",
        "outputId": "29121e64-5f2e-4b2e-cbb4-ee6bb6c9b9e1",
        "colab": {
          "base_uri": "https://localhost:8080/"
        }
      },
      "execution_count": 1,
      "outputs": [
        {
          "output_type": "execute_result",
          "data": {
            "text/plain": [
              "{'key1': 1,\n",
              " 'key2': '2',\n",
              " 'key3': [3, 3, 3],\n",
              " 'key4': (4, 4, 4),\n",
              " 'key5': 5,\n",
              " (0, 1): 6}"
            ]
          },
          "metadata": {},
          "execution_count": 1
        }
      ]
    },
    {
      "cell_type": "markdown",
      "source": [
        "The keys can be strings:\n"
      ],
      "metadata": {
        "id": "UQPHrPlGFhOe"
      }
    },
    {
      "cell_type": "code",
      "source": [
        "# Access to the value by the key\n",
        "\n",
        "Dict[\"key1\"]"
      ],
      "metadata": {
        "trusted": true,
        "id": "MFUvRQL1FhOe",
        "outputId": "86d77143-a503-4e23-980a-3cd79fc80aae",
        "colab": {
          "base_uri": "https://localhost:8080/"
        }
      },
      "execution_count": 2,
      "outputs": [
        {
          "output_type": "execute_result",
          "data": {
            "text/plain": [
              "1"
            ]
          },
          "metadata": {},
          "execution_count": 2
        }
      ]
    },
    {
      "cell_type": "markdown",
      "source": [
        "Keys can also be any immutable object such as a tuple:\n"
      ],
      "metadata": {
        "id": "-oG2Sv2gFhOf"
      }
    },
    {
      "cell_type": "code",
      "source": [
        "# Access to the value by the key\n",
        "\n",
        "Dict[(0, 1)]"
      ],
      "metadata": {
        "trusted": true,
        "id": "lDlEi1PPFhOf",
        "outputId": "2cd76975-240e-40f7-b2d5-673719232abb",
        "colab": {
          "base_uri": "https://localhost:8080/"
        }
      },
      "execution_count": 3,
      "outputs": [
        {
          "output_type": "execute_result",
          "data": {
            "text/plain": [
              "6"
            ]
          },
          "metadata": {},
          "execution_count": 3
        }
      ]
    },
    {
      "cell_type": "markdown",
      "source": [
        "Each key is separated from its value by a colon \"<code>:</code>\".  Commas separate the items, and the whole dictionary is enclosed in curly braces. An empty dictionary without any items is written with just two curly braces, like this  \"<code>{}</code>\".\n"
      ],
      "metadata": {
        "id": "BktAXYfkFhOf"
      }
    },
    {
      "cell_type": "code",
      "source": [
        "# Create a sample dictionary\n",
        "\n",
        "release_year_dict = {\"Thriller\": \"1982\", \"Back in Black\": \"1980\", \\\n",
        "                    \"The Dark Side of the Moon\": \"1973\", \"The Bodyguard\": \"1992\", \\\n",
        "                    \"Bat Out of Hell\": \"1977\", \"Their Greatest Hits (1971-1975)\": \"1976\", \\\n",
        "                    \"Saturday Night Fever\": \"1977\", \"Rumours\": \"1977\"}\n",
        "release_year_dict"
      ],
      "metadata": {
        "trusted": true,
        "id": "hhh0NvhTFhOf",
        "outputId": "076f0bdf-d5af-41b5-c6c0-54ae37074a12",
        "colab": {
          "base_uri": "https://localhost:8080/"
        }
      },
      "execution_count": 4,
      "outputs": [
        {
          "output_type": "execute_result",
          "data": {
            "text/plain": [
              "{'Thriller': '1982',\n",
              " 'Back in Black': '1980',\n",
              " 'The Dark Side of the Moon': '1973',\n",
              " 'The Bodyguard': '1992',\n",
              " 'Bat Out of Hell': '1977',\n",
              " 'Their Greatest Hits (1971-1975)': '1976',\n",
              " 'Saturday Night Fever': '1977',\n",
              " 'Rumours': '1977'}"
            ]
          },
          "metadata": {},
          "execution_count": 4
        }
      ]
    },
    {
      "cell_type": "markdown",
      "source": [
        "In summary, like a list, a dictionary holds a sequence of elements. Each element is represented by a key and its corresponding value. Dictionaries are created with two curly braces containing keys and values separated by a colon. For every key, there can only be one single value, however,  multiple keys can hold the same value. Keys can only be strings, numbers, or tuples, but values can be any data type.\n"
      ],
      "metadata": {
        "id": "fB3-hNaHFhOg"
      }
    },
    {
      "cell_type": "markdown",
      "source": [
        "It is helpful to visualize the dictionary as a table, as in the following image. The first column represents the keys, the second column represents the values.\n"
      ],
      "metadata": {
        "id": "ZLmQ3rICFhOg"
      }
    },
    {
      "cell_type": "markdown",
      "source": [
        "<img src=\"https://cf-courses-data.s3.us.cloud-object-storage.appdomain.cloud/IBMDeveloperSkillsNetwork-PY0101EN-SkillsNetwork/labs/Module%202/images/DictsStructure.png\" width=\"650\">\n"
      ],
      "metadata": {
        "id": "PbyhK-6RFhOh"
      }
    },
    {
      "cell_type": "markdown",
      "source": [
        "<a id=\"keys\"></a>\n",
        "## Keys\n"
      ],
      "metadata": {
        "id": "ph2-20leFhOh"
      }
    },
    {
      "cell_type": "markdown",
      "source": [
        "You can retrieve the values based on the names:\n"
      ],
      "metadata": {
        "id": "t-ckim7UFhOh"
      }
    },
    {
      "cell_type": "code",
      "source": [
        "# Get value by keys\n",
        "\n",
        "release_year_dict['Thriller']"
      ],
      "metadata": {
        "trusted": true,
        "id": "_3DwkdJWFhOh",
        "outputId": "4a9cc8a7-2cfe-4345-a5e3-3a91557beeb9",
        "colab": {
          "base_uri": "https://localhost:8080/",
          "height": 36
        }
      },
      "execution_count": 5,
      "outputs": [
        {
          "output_type": "execute_result",
          "data": {
            "text/plain": [
              "'1982'"
            ],
            "application/vnd.google.colaboratory.intrinsic+json": {
              "type": "string"
            }
          },
          "metadata": {},
          "execution_count": 5
        }
      ]
    },
    {
      "cell_type": "markdown",
      "source": [
        "This corresponds to:\n"
      ],
      "metadata": {
        "id": "XSWWHTEIFhOi"
      }
    },
    {
      "cell_type": "markdown",
      "source": [
        "<img src=\"https://cf-courses-data.s3.us.cloud-object-storage.appdomain.cloud/IBMDeveloperSkillsNetwork-PY0101EN-SkillsNetwork/labs/Module%202/images/DictsKeyOne.png\" width=\"500\">\n"
      ],
      "metadata": {
        "id": "ZQALM1XdFhOi"
      }
    },
    {
      "cell_type": "markdown",
      "source": [
        "Similarly for <b>The Bodyguard</b>\n"
      ],
      "metadata": {
        "id": "KYvYWxfBFhOi"
      }
    },
    {
      "cell_type": "code",
      "source": [
        "# Get value by key\n",
        "\n",
        "release_year_dict['The Bodyguard']"
      ],
      "metadata": {
        "trusted": true,
        "id": "w_BFjTFeFhOj",
        "outputId": "46847c8a-3ed0-4f85-ae73-af41d3831830",
        "colab": {
          "base_uri": "https://localhost:8080/",
          "height": 36
        }
      },
      "execution_count": 6,
      "outputs": [
        {
          "output_type": "execute_result",
          "data": {
            "text/plain": [
              "'1992'"
            ],
            "application/vnd.google.colaboratory.intrinsic+json": {
              "type": "string"
            }
          },
          "metadata": {},
          "execution_count": 6
        }
      ]
    },
    {
      "cell_type": "markdown",
      "source": [
        "<img src=\"https://cf-courses-data.s3.us.cloud-object-storage.appdomain.cloud/IBMDeveloperSkillsNetwork-PY0101EN-SkillsNetwork/labs/Module%202/images/DictsKeyTwo.png\" width=\"500\">\n"
      ],
      "metadata": {
        "id": "WlgnhKhYFhOj"
      }
    },
    {
      "cell_type": "markdown",
      "source": [
        "Now let us retrieve the keys of the dictionary using the method <code>keys()</code>:\n"
      ],
      "metadata": {
        "id": "VVuPujMWFhOj"
      }
    },
    {
      "cell_type": "code",
      "source": [
        "# Get all the keys in dictionary\n",
        "\n",
        "release_year_dict.keys()"
      ],
      "metadata": {
        "trusted": true,
        "id": "mcdUW3DMFhOj",
        "outputId": "28f1eba1-7a0a-4d23-96ab-24d06b3f1f3b",
        "colab": {
          "base_uri": "https://localhost:8080/"
        }
      },
      "execution_count": 7,
      "outputs": [
        {
          "output_type": "execute_result",
          "data": {
            "text/plain": [
              "dict_keys(['Thriller', 'Back in Black', 'The Dark Side of the Moon', 'The Bodyguard', 'Bat Out of Hell', 'Their Greatest Hits (1971-1975)', 'Saturday Night Fever', 'Rumours'])"
            ]
          },
          "metadata": {},
          "execution_count": 7
        }
      ]
    },
    {
      "cell_type": "markdown",
      "source": [
        "You can retrieve the values using the method  <code>values()</code>:\n"
      ],
      "metadata": {
        "id": "chkdsrUNFhOk"
      }
    },
    {
      "cell_type": "code",
      "source": [
        "# Get all the values in dictionary\n",
        "\n",
        "release_year_dict.values()"
      ],
      "metadata": {
        "trusted": true,
        "id": "gj4fet5jFhOk",
        "outputId": "97fc9e2e-ec91-41ac-a077-80b8faf0b509",
        "colab": {
          "base_uri": "https://localhost:8080/"
        }
      },
      "execution_count": 8,
      "outputs": [
        {
          "output_type": "execute_result",
          "data": {
            "text/plain": [
              "dict_values(['1982', '1980', '1973', '1992', '1977', '1976', '1977', '1977'])"
            ]
          },
          "metadata": {},
          "execution_count": 8
        }
      ]
    },
    {
      "cell_type": "markdown",
      "source": [
        "We can add an entry:\n"
      ],
      "metadata": {
        "id": "eIE82rz_FhOk"
      }
    },
    {
      "cell_type": "code",
      "source": [
        "# Append value with key into dictionary\n",
        "\n",
        "release_year_dict['Graduation'] = '2007'\n",
        "release_year_dict"
      ],
      "metadata": {
        "trusted": true,
        "id": "ingUQYfzFhOl",
        "outputId": "52989da6-e5aa-4c5c-c78f-90feaa13bb21",
        "colab": {
          "base_uri": "https://localhost:8080/"
        }
      },
      "execution_count": 9,
      "outputs": [
        {
          "output_type": "execute_result",
          "data": {
            "text/plain": [
              "{'Thriller': '1982',\n",
              " 'Back in Black': '1980',\n",
              " 'The Dark Side of the Moon': '1973',\n",
              " 'The Bodyguard': '1992',\n",
              " 'Bat Out of Hell': '1977',\n",
              " 'Their Greatest Hits (1971-1975)': '1976',\n",
              " 'Saturday Night Fever': '1977',\n",
              " 'Rumours': '1977',\n",
              " 'Graduation': '2007'}"
            ]
          },
          "metadata": {},
          "execution_count": 9
        }
      ]
    },
    {
      "cell_type": "markdown",
      "source": [
        "We can delete an entry:\n"
      ],
      "metadata": {
        "id": "RrCKUWvyFhOl"
      }
    },
    {
      "cell_type": "code",
      "source": [
        "# Delete entries by key\n",
        "\n",
        "del(release_year_dict['Thriller'])\n",
        "del(release_year_dict['Graduation'])\n",
        "release_year_dict"
      ],
      "metadata": {
        "trusted": true,
        "id": "reNaNydtFhOl",
        "outputId": "67f2212f-de67-4bad-c988-04cd84c01998",
        "colab": {
          "base_uri": "https://localhost:8080/"
        }
      },
      "execution_count": 10,
      "outputs": [
        {
          "output_type": "execute_result",
          "data": {
            "text/plain": [
              "{'Back in Black': '1980',\n",
              " 'The Dark Side of the Moon': '1973',\n",
              " 'The Bodyguard': '1992',\n",
              " 'Bat Out of Hell': '1977',\n",
              " 'Their Greatest Hits (1971-1975)': '1976',\n",
              " 'Saturday Night Fever': '1977',\n",
              " 'Rumours': '1977'}"
            ]
          },
          "metadata": {},
          "execution_count": 10
        }
      ]
    },
    {
      "cell_type": "markdown",
      "source": [
        "We can verify if an element is in the dictionary:\n"
      ],
      "metadata": {
        "id": "jjooEj87FhOm"
      }
    },
    {
      "cell_type": "code",
      "source": [
        "# Verify the key is in the dictionary\n",
        "\n",
        "'The Bodyguard' in release_year_dict"
      ],
      "metadata": {
        "trusted": true,
        "id": "x5kiwRBsFhOm",
        "outputId": "3251686e-8617-454a-b93f-e71cf659cbed",
        "colab": {
          "base_uri": "https://localhost:8080/"
        }
      },
      "execution_count": 11,
      "outputs": [
        {
          "output_type": "execute_result",
          "data": {
            "text/plain": [
              "True"
            ]
          },
          "metadata": {},
          "execution_count": 11
        }
      ]
    },
    {
      "cell_type": "markdown",
      "source": [
        "<hr>\n"
      ],
      "metadata": {
        "id": "0UJRflA3FhOn"
      }
    },
    {
      "cell_type": "markdown",
      "source": [
        "<a id=\"quiz\"></a>\n",
        "## Quiz on Dictionaries\n"
      ],
      "metadata": {
        "id": "s7Y5BpCCFhOn"
      }
    },
    {
      "cell_type": "markdown",
      "source": [
        "<b>You will need this dictionary for the next two questions:</b>\n"
      ],
      "metadata": {
        "id": "R6m66QCmFhOn"
      }
    },
    {
      "cell_type": "code",
      "source": [
        "# Question sample dictionary\n",
        "\n",
        "soundtrack_dic = {\"The Bodyguard\":\"1992\", \"Saturday Night Fever\":\"1977\"}\n",
        "soundtrack_dic"
      ],
      "metadata": {
        "trusted": true,
        "id": "UpS93Ea9FhOw",
        "outputId": "a093a9eb-312f-47f7-91ce-beac00e025bd",
        "colab": {
          "base_uri": "https://localhost:8080/"
        }
      },
      "execution_count": 12,
      "outputs": [
        {
          "output_type": "execute_result",
          "data": {
            "text/plain": [
              "{'The Bodyguard': '1992', 'Saturday Night Fever': '1977'}"
            ]
          },
          "metadata": {},
          "execution_count": 12
        }
      ]
    },
    {
      "cell_type": "markdown",
      "source": [
        "a) In the dictionary <code>soundtrack_dic</code> what are the keys ?\n"
      ],
      "metadata": {
        "id": "FZUIy_4vFhOw"
      }
    },
    {
      "cell_type": "code",
      "source": [
        "# Write your code below and press Shift+Enter to execute\n",
        "soundtrack_dic.keys()"
      ],
      "metadata": {
        "trusted": true,
        "id": "xuAewvzSFhOx",
        "outputId": "a4de7880-3cec-4b0f-8db9-39d82eee18dd",
        "colab": {
          "base_uri": "https://localhost:8080/"
        }
      },
      "execution_count": 13,
      "outputs": [
        {
          "output_type": "execute_result",
          "data": {
            "text/plain": [
              "dict_keys(['The Bodyguard', 'Saturday Night Fever'])"
            ]
          },
          "metadata": {},
          "execution_count": 13
        }
      ]
    },
    {
      "cell_type": "markdown",
      "source": [
        "<details><summary>Click here for the solution</summary>\n",
        "\n",
        "```python\n",
        "soundtrack_dic.keys() # The Keys \"The Bodyguard\" and \"Saturday Night Fever\"\n",
        "\n",
        "```\n",
        "\n",
        "</details>\n"
      ],
      "metadata": {
        "id": "94S5y2JmFhOx"
      }
    },
    {
      "cell_type": "markdown",
      "source": [
        "b) In the dictionary <code>soundtrack_dic</code> what are the values ?\n"
      ],
      "metadata": {
        "id": "xNlWnAW6FhOx"
      }
    },
    {
      "cell_type": "code",
      "source": [
        "# Write your code below and press Shift+Enter to execute\n",
        "soundtrack_dic.values()"
      ],
      "metadata": {
        "trusted": true,
        "id": "bs8BE-YgFhOy",
        "outputId": "92d4e4a9-9c15-4ae7-b441-a9b6d2df015c",
        "colab": {
          "base_uri": "https://localhost:8080/"
        }
      },
      "execution_count": 14,
      "outputs": [
        {
          "output_type": "execute_result",
          "data": {
            "text/plain": [
              "dict_values(['1992', '1977'])"
            ]
          },
          "metadata": {},
          "execution_count": 14
        }
      ]
    },
    {
      "cell_type": "markdown",
      "source": [
        "<details><summary>Click here for the solution</summary>\n",
        "\n",
        "```python\n",
        "soundtrack_dic.values() # The values are \"1992\" and \"1977\"\n",
        "\n",
        "```\n",
        "\n",
        "</details>\n"
      ],
      "metadata": {
        "id": "WV5G_xfZFhOy"
      }
    },
    {
      "cell_type": "markdown",
      "source": [
        "<hr>\n"
      ],
      "metadata": {
        "id": "GCKWaDm1FhOy"
      }
    },
    {
      "cell_type": "markdown",
      "source": [
        "<b>You will need this dictionary for the following questions:</b>\n"
      ],
      "metadata": {
        "id": "GXf8X2NHFhOz"
      }
    },
    {
      "cell_type": "markdown",
      "source": [
        "The Albums <b>Back in Black</b>, <b>The Bodyguard</b> and <b>Thriller</b> have the following music recording sales in millions 50, 50 and 65 respectively:\n"
      ],
      "metadata": {
        "id": "95HMBl_YFhOz"
      }
    },
    {
      "cell_type": "markdown",
      "source": [
        "a) Create a dictionary <code>album_sales_dict</code> where the keys are the album name and the sales in millions are the values.\n"
      ],
      "metadata": {
        "id": "hxRRQuZ9FhOz"
      }
    },
    {
      "cell_type": "code",
      "source": [
        "# Write your code below and press Shift+Enter to execute\n",
        "album_sales_dict = {'Back in Black':50, 'The Bodyguard':50, 'Thriller':65}"
      ],
      "metadata": {
        "trusted": true,
        "id": "oTQWSZz8FhO0"
      },
      "execution_count": 15,
      "outputs": []
    },
    {
      "cell_type": "markdown",
      "source": [
        "<details><summary>Click here for the solution</summary>\n",
        "\n",
        "```python\n",
        "album_sales_dict = {\"The Bodyguard\":50, \"Back in Black\":50, \"Thriller\":65}\n",
        "\n",
        "```\n",
        "\n",
        "</details>\n"
      ],
      "metadata": {
        "id": "Y1srjC7HFhO0"
      }
    },
    {
      "cell_type": "markdown",
      "source": [
        "b) Use the dictionary to find the total sales of <b>Thriller</b>:\n"
      ],
      "metadata": {
        "id": "rIHNdkXFFhO0"
      }
    },
    {
      "cell_type": "code",
      "source": [
        "# Write your code below and press Shift+Enter to execute\n",
        "album_sales_dict['Thriller']"
      ],
      "metadata": {
        "trusted": true,
        "id": "9tQOYeYXFhO1",
        "outputId": "6d6092f2-2cb5-4270-8ea5-25bda42f8979",
        "colab": {
          "base_uri": "https://localhost:8080/"
        }
      },
      "execution_count": 16,
      "outputs": [
        {
          "output_type": "execute_result",
          "data": {
            "text/plain": [
              "65"
            ]
          },
          "metadata": {},
          "execution_count": 16
        }
      ]
    },
    {
      "cell_type": "markdown",
      "source": [
        "<details><summary>Click here for the solution</summary>\n",
        "\n",
        "```python\n",
        "album_sales_dict[\"Thriller\"]\n",
        "\n",
        "```\n",
        "\n",
        "</details>\n"
      ],
      "metadata": {
        "id": "z6paVvztFhO1"
      }
    },
    {
      "cell_type": "markdown",
      "source": [
        "c) Find the names of the albums from the dictionary using the method <code>keys()</code>:\n"
      ],
      "metadata": {
        "id": "40tdNNgSFhO2"
      }
    },
    {
      "cell_type": "code",
      "source": [
        "# Write your code below and press Shift+Enter to execute\n",
        "album_sales_dict.keys()"
      ],
      "metadata": {
        "trusted": true,
        "id": "htLVfsWfFhO2",
        "outputId": "bbdb805b-5478-4bc0-8f47-93ffa8b3b407",
        "colab": {
          "base_uri": "https://localhost:8080/"
        }
      },
      "execution_count": 17,
      "outputs": [
        {
          "output_type": "execute_result",
          "data": {
            "text/plain": [
              "dict_keys(['Back in Black', 'The Bodyguard', 'Thriller'])"
            ]
          },
          "metadata": {},
          "execution_count": 17
        }
      ]
    },
    {
      "cell_type": "markdown",
      "source": [
        "<details><summary>Click here for the solution</summary>\n",
        "\n",
        "```python\n",
        "album_sales_dict.keys()\n",
        "\n",
        "```\n",
        "\n",
        "</details>\n"
      ],
      "metadata": {
        "id": "yyZYTp-UFhO3"
      }
    },
    {
      "cell_type": "markdown",
      "source": [
        "d) Find the values of the recording sales from the dictionary using the method <code>values</code>:\n"
      ],
      "metadata": {
        "id": "PWst_MkcFhO3"
      }
    },
    {
      "cell_type": "code",
      "source": [
        "# Write your code below and press Shift+Enter to execute\n",
        "album_sales_dict.keys()"
      ],
      "metadata": {
        "trusted": true,
        "id": "4PgPO_a9FhO4",
        "outputId": "acdc2925-7a09-43cc-ce52-f3c6adf7d88f",
        "colab": {
          "base_uri": "https://localhost:8080/"
        }
      },
      "execution_count": 18,
      "outputs": [
        {
          "output_type": "execute_result",
          "data": {
            "text/plain": [
              "dict_keys(['Back in Black', 'The Bodyguard', 'Thriller'])"
            ]
          },
          "metadata": {},
          "execution_count": 18
        }
      ]
    },
    {
      "cell_type": "markdown",
      "source": [
        "<details><summary>Click here for the solution</summary>\n",
        "\n",
        "```python\n",
        "album_sales_dict.values()\n",
        "\n",
        "```\n",
        "\n",
        "</details>\n"
      ],
      "metadata": {
        "id": "rXuvACqyFhO5"
      }
    },
    {
      "cell_type": "markdown",
      "source": [
        "<a id=\"Scenario\"></a>\n",
        "## Scenario:Inventory Store\n",
        "\n"
      ],
      "metadata": {
        "id": "VT1DIBKGFhO6"
      }
    },
    {
      "cell_type": "markdown",
      "source": [
        "The inventory store scenario project utilizes a dictionary-based approach to develop a robust system for managing and tracking inventory in a retail store.\n",
        "<br>\n",
        "**Note:- You will be working with two product details.**\n"
      ],
      "metadata": {
        "id": "Y9duydt6FhO6"
      }
    },
    {
      "cell_type": "markdown",
      "source": [
        "## Task-1 Create an empty dictionary\n"
      ],
      "metadata": {
        "id": "kgeqjPkYFhO6"
      }
    },
    {
      "cell_type": "markdown",
      "source": [
        "\n",
        "First you need to create an empty dictionary, where you will be storing the product details.\n"
      ],
      "metadata": {
        "id": "5v94ILCYFhO7"
      }
    },
    {
      "cell_type": "code",
      "source": [
        "#Type your code here\n",
        "inventory ={}"
      ],
      "metadata": {
        "trusted": true,
        "id": "cc6PcnYfFhO7"
      },
      "execution_count": 19,
      "outputs": []
    },
    {
      "cell_type": "markdown",
      "source": [
        "<details> <summary>Click here for the solution</summary>\n",
        "\n",
        "```python\n",
        "\n",
        "inventory ={}\n",
        "\n",
        "```\n",
        "\n",
        "</details>\n"
      ],
      "metadata": {
        "id": "rkLxN74UFhO7"
      }
    },
    {
      "cell_type": "markdown",
      "source": [
        "## Task-2 Store the first product details in variable\n",
        "* Product Name= Mobile phone\n",
        "* Product Quantity= 5\n",
        "* Product price= 20000\n",
        "* Product Release Year= 2020\n"
      ],
      "metadata": {
        "id": "NjGbCKqaFhO8"
      }
    },
    {
      "cell_type": "code",
      "source": [
        "#type your code here\n",
        "ProductNo1 = \"Mobile Phone\"\n",
        "ProductNo1_quantity = 5\n",
        "ProductNo1_price = 20000\n",
        "ProductNo1_releaseYear= 2020"
      ],
      "metadata": {
        "trusted": true,
        "id": "NpKEjQsmFhO8"
      },
      "execution_count": 20,
      "outputs": []
    },
    {
      "cell_type": "markdown",
      "source": [
        "<details> <summary>Click here for the solution</summary>\n",
        "\n",
        "```python\n",
        "ProductNo1 = \"Mobile Phone\"\n",
        "ProductNo1_quantity = 5\n",
        "ProductNo1_price = 20000\n",
        "ProductNo1_releaseYear= 2020\n",
        "```\n",
        "\n",
        "</details>\n"
      ],
      "metadata": {
        "id": "v_W9RRJOFhO9"
      }
    },
    {
      "cell_type": "markdown",
      "source": [
        "## Task-3 Add the details in inventory\n"
      ],
      "metadata": {
        "id": "K6eL-6vbFhO9"
      }
    },
    {
      "cell_type": "code",
      "source": [
        "#Type your code here\n",
        "inventory[\"ProductNo1\"]= ProductNo1\n",
        "inventory[\"ProductNo1_quantity\"]= ProductNo1_quantity\n",
        "inventory[\"ProductNo1_price\"]= ProductNo1_price\n",
        "inventory[\"ProductNo1_releaseYear\"]=ProductNo1_releaseYear"
      ],
      "metadata": {
        "trusted": true,
        "id": "EzUkm--yFhO9"
      },
      "execution_count": 21,
      "outputs": []
    },
    {
      "cell_type": "markdown",
      "source": [
        "<details> <summary>Click here for the solution</summary>\n",
        "\n",
        "```python\n",
        "\n",
        "inventory[\"ProductNo1\"]= ProductNo1\n",
        "inventory[\"ProductNo1_quantity\"]= ProductNo1_quantity\n",
        "inventory[\"ProductNo1_price\"]= ProductNo1_price\n",
        "inventory[\"ProductNo1_releaseYear\"]=ProductNo1_releaseYear\n",
        "\n",
        "```\n",
        "\n",
        "</details>\n"
      ],
      "metadata": {
        "id": "eRIo7HZAFhO-"
      }
    },
    {
      "cell_type": "markdown",
      "source": [
        "## Task-4 Store the second product details in a variable.\n",
        "* Product Name= \"Laptop\"\n",
        "* Product Quantity= 10\n",
        "* Product price = 50000\n",
        "* Product Release Year= 2023\n"
      ],
      "metadata": {
        "id": "Lle-B8A9FhO-"
      }
    },
    {
      "cell_type": "code",
      "source": [
        "#type your code here\n",
        "ProductNo2 = \"Laptop\"\n",
        "ProductNo2_quantity = 10\n",
        "ProductNo2_price = 50000\n",
        "ProductNo2_releaseYear= 2023"
      ],
      "metadata": {
        "trusted": true,
        "id": "zNK38MYFFhO-"
      },
      "execution_count": 22,
      "outputs": []
    },
    {
      "cell_type": "markdown",
      "source": [
        "<details> <summary>Click here for the solution</summary>\n",
        "\n",
        "```python\n",
        "\n",
        "ProductNo2 = \"Laptop\"\n",
        "ProductNo2_quantity = 10\n",
        "ProductNo2_price = 50000\n",
        "ProductNo2_releaseYear= 2023\n",
        "\n",
        "```\n",
        "\n",
        "</details>\n"
      ],
      "metadata": {
        "id": "6q3z9GoxFhO_"
      }
    },
    {
      "cell_type": "markdown",
      "source": [
        "## Task-5 Add the item detail into the inventory.\n"
      ],
      "metadata": {
        "id": "68xo4rIaFhO_"
      }
    },
    {
      "cell_type": "code",
      "source": [
        "#type your code here\n",
        "inventory[\"ProductNo2\"]= ProductNo2\n",
        "inventory[\"ProductNo2_quantity\"]= ProductNo2_quantity\n",
        "inventory[\"ProductNo2_price\"]= ProductNo2_price\n",
        "inventory[\"ProductNo2_releaseYear\"]=ProductNo2_releaseYear"
      ],
      "metadata": {
        "trusted": true,
        "id": "xNeJ4QQqFhO_"
      },
      "execution_count": 23,
      "outputs": []
    },
    {
      "cell_type": "markdown",
      "source": [
        "<details> <summary>Click here for the solution</summary>\n",
        "\n",
        "```python\n",
        "\n",
        "inventory[\"ProductNo2\"]= ProductNo2\n",
        "inventory[\"ProductNo2_quantity\"]= ProductNo2_quantity\n",
        "inventory[\"ProductNo2_price\"]= ProductNo2_price\n",
        "inventory[\"ProductNo2_releaseYear\"]=ProductNo2_releaseYear\n",
        "\n",
        "```\n",
        "\n",
        "</details>\n"
      ],
      "metadata": {
        "id": "dhTwsWQIFhPA"
      }
    },
    {
      "cell_type": "markdown",
      "source": [
        "## Task-6 Display the Products present in the inventory\n"
      ],
      "metadata": {
        "id": "G0ZuLaoVFhPA"
      }
    },
    {
      "cell_type": "markdown",
      "source": [
        "Use print statement for displaying the products\n"
      ],
      "metadata": {
        "id": "0MIKjYkLFhPA"
      }
    },
    {
      "cell_type": "code",
      "source": [
        "#type your code here\n",
        "print(inventory)"
      ],
      "metadata": {
        "trusted": true,
        "id": "2csj-TAcFhPA",
        "outputId": "10bb4130-e201-4544-a184-ed59423fe9a3",
        "colab": {
          "base_uri": "https://localhost:8080/"
        }
      },
      "execution_count": 24,
      "outputs": [
        {
          "output_type": "stream",
          "name": "stdout",
          "text": [
            "{'ProductNo1': 'Mobile Phone', 'ProductNo1_quantity': 5, 'ProductNo1_price': 20000, 'ProductNo1_releaseYear': 2020, 'ProductNo2': 'Laptop', 'ProductNo2_quantity': 10, 'ProductNo2_price': 50000, 'ProductNo2_releaseYear': 2023}\n"
          ]
        }
      ]
    },
    {
      "cell_type": "markdown",
      "source": [
        "<details> <summary>Click here for the solution</summary>\n",
        "\n",
        "```python\n",
        "\n",
        "print(inventory)\n",
        "\n",
        "```\n",
        "\n",
        "</details>\n"
      ],
      "metadata": {
        "id": "NBaESgqLFhPB"
      }
    },
    {
      "cell_type": "markdown",
      "source": [
        "## Task-7 Check if `ProductNo1_releaseYear` and `ProductNo2_releaseYear` is in the inventory\n"
      ],
      "metadata": {
        "id": "LbSiTXmZFhPB"
      }
    },
    {
      "cell_type": "code",
      "source": [
        "#Type your code here\n",
        "\"ProductNo1_releaseYear\" in inventory\n",
        "\"ProductNo2_releaseYear\" in inventory"
      ],
      "metadata": {
        "trusted": true,
        "id": "vll42lffFhPB",
        "outputId": "8034929b-8593-479f-e56b-4521f59a64ef",
        "colab": {
          "base_uri": "https://localhost:8080/"
        }
      },
      "execution_count": 25,
      "outputs": [
        {
          "output_type": "execute_result",
          "data": {
            "text/plain": [
              "True"
            ]
          },
          "metadata": {},
          "execution_count": 25
        }
      ]
    },
    {
      "cell_type": "markdown",
      "source": [
        "<details> <summary>Click here for the solution</summary>\n",
        "\n",
        "```python\n",
        "\n",
        "\"ProductNo1_releaseYear\" in inventory\n",
        "\"ProductNo2_releaseYear\" in inventory\n",
        "\n",
        "```\n",
        "\n",
        "</details>\n"
      ],
      "metadata": {
        "id": "lCaCU5d9FhPF"
      }
    },
    {
      "cell_type": "markdown",
      "source": [
        "**As in inventory `Release year` is not required, let's delete it.**\n"
      ],
      "metadata": {
        "id": "cfW1FtAjFhPF"
      }
    },
    {
      "cell_type": "markdown",
      "source": [
        "## Task-8 Delete release year of both the products from the inventory\n"
      ],
      "metadata": {
        "id": "oMY_hpOfFhPG"
      }
    },
    {
      "cell_type": "code",
      "source": [
        "#Type your code here\n",
        "del(inventory[\"ProductNo1_releaseYear\"])\n",
        "del(inventory[\"ProductNo2_releaseYear\"])"
      ],
      "metadata": {
        "trusted": true,
        "id": "jPD1ZHwuFhPG"
      },
      "execution_count": 26,
      "outputs": []
    },
    {
      "cell_type": "markdown",
      "source": [
        "\n",
        "<details> <summary>Click here for the solution</summary>\n",
        "\n",
        "```python\n",
        "\n",
        "del(inventory[\"ProductNo1_releaseYear\"])\n",
        "del(inventory[\"ProductNo2_releaseYear\"])\n",
        "\n",
        "```\n",
        "\n",
        "</details>\n"
      ],
      "metadata": {
        "id": "hyiOuzIMFhPG"
      }
    },
    {
      "cell_type": "markdown",
      "source": [
        "<hr>\n",
        "<h2>The last exercise!</h2>\n",
        "<p>Congratulations, you have completed your first lesson and hands-on lab in Python.\n",
        "<hr>\n"
      ],
      "metadata": {
        "id": "7zPvUpEAFhPH"
      }
    },
    {
      "cell_type": "markdown",
      "source": [
        "## Author\n",
        "\n",
        "<a href=\"https://www.linkedin.com/in/joseph-s-50398b136/?utm_medium=Exinfluencer&utm_source=Exinfluencer&utm_content=000026UJ&utm_term=10006555&utm_id=NA-SkillsNetwork-Channel-SkillsNetworkCoursesIBMDeveloperSkillsNetworkPY0101ENSkillsNetwork19487395-2021-01-01\">Joseph Santarcangelo</a>\n",
        "\n",
        "## Other contributors\n",
        "\n",
        "<a href=\"https://www.linkedin.com/in/jiahui-mavis-zhou-a4537814a?utm_medium=Exinfluencer&utm_source=Exinfluencer&utm_content=000026UJ&utm_term=10006555&utm_id=NA-SkillsNetwork-Channel-SkillsNetworkCoursesIBMDeveloperSkillsNetworkPY0101ENSkillsNetwork19487395-2021-01-01\">Mavis Zhou</a>\n",
        "\n",
        "## Change Log\n",
        "\n",
        "| Date (YYYY-MM-DD) | Version | Changed By    | Change Description                                                  |\n",
        "| ----------------- | ------- | ------------- | ------------------------------------------------------------------- |\n",
        "| 2023-05-11        |  2.3    | Akansha yadav | Updated lab with scenario                                           |\n",
        "|  2022-01-10        | 2.2     | Malika Singla | Removed the readme for GitShare                                     |\n",
        "| 2020-09-09        | 2.1     | Malika Singla | Updated the variable soundtrack_dict to soundtrack_dic in Questions |\n",
        "| 2020-08-26        | 2.0     | Lavanya       | Moved lab to course repo in GitLab                                  |\n",
        "|                   |         |               |                                                                     |\n",
        "|                   |         |               |                                                                     |\n",
        "\n",
        "## <h3 align=\"center\"> © IBM Corporation 2020. All rights reserved. <h3/>\n"
      ],
      "metadata": {
        "id": "8kW72bkfFhPH"
      }
    }
  ]
}