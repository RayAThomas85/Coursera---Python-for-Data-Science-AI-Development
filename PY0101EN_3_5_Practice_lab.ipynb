{
  "cells": [
    {
      "cell_type": "markdown",
      "metadata": {
        "id": "view-in-github",
        "colab_type": "text"
      },
      "source": [
        "<a href=\"https://colab.research.google.com/github/RayAThomas85/Coursera---Python-for-Data-Science-AI-Development/blob/main/PY0101EN_3_5_Practice_lab.ipynb\" target=\"_parent\"><img src=\"https://colab.research.google.com/assets/colab-badge.svg\" alt=\"Open In Colab\"/></a>"
      ]
    },
    {
      "cell_type": "markdown",
      "metadata": {
        "id": "9ub_TDmbbGEv"
      },
      "source": [
        "<p style=\"text-align:center\">\n",
        "    <a href=\"https://skills.network/?utm_medium=Exinfluencer&utm_source=Exinfluencer&utm_content=000026UJ&utm_term=10006555&utm_id=NA-SkillsNetwork-Channel-SkillsNetworkCoursesIBMDeveloperSkillsNetworkPY0101ENSkillsNetwork1005-2023-01-01\">\n",
        "    <img src=\"https://cf-courses-data.s3.us.cloud-object-storage.appdomain.cloud/assets/logos/SN_web_lightmode.png\" width=\"200\" alt=\"Skills Network Logo\"  />\n",
        "    </a>\n",
        "</p>\n"
      ]
    },
    {
      "cell_type": "markdown",
      "metadata": {
        "id": "KJebhj06bGEx"
      },
      "source": [
        "<center>\n",
        "\n",
        "# Practice lab\n",
        "\n",
        "</center>\n"
      ]
    },
    {
      "cell_type": "markdown",
      "metadata": {
        "id": "WEYojSw1bGEy"
      },
      "source": [
        "<center>\n",
        "\n",
        "# **Scenario: Text Analysis**\n",
        "\n",
        "</center>\n"
      ]
    },
    {
      "cell_type": "markdown",
      "metadata": {
        "id": "rHxzyy6YbGEy"
      },
      "source": [
        "Estimated time needed: **30** minutes\n"
      ]
    },
    {
      "cell_type": "markdown",
      "metadata": {
        "id": "QUCY3sJubGEy"
      },
      "source": [
        "# What is Text analysis?\n",
        "Text analysis, also known as text mining or text analytics, refers to the process of extracting meaningful information and insights from textual data.\n"
      ]
    },
    {
      "cell_type": "markdown",
      "metadata": {
        "id": "T22hpw7mbGEy"
      },
      "source": [
        "## Objectives\n",
        "\n",
        "Upon finishing this laboratory exercise, you will gain proficiency in employing various techniques in combination.\n"
      ]
    },
    {
      "cell_type": "markdown",
      "metadata": {
        "id": "t1FVfrLgbGEy"
      },
      "source": [
        "## Setup\n"
      ]
    },
    {
      "cell_type": "markdown",
      "metadata": {
        "id": "6qyd8u1lbGEz"
      },
      "source": [
        "For this lab, we will be using the following data types:\n",
        "* List\n",
        "* Strings\n",
        "* Classes and objects\n"
      ]
    },
    {
      "cell_type": "markdown",
      "metadata": {
        "id": "FdOxdMH7bGEz"
      },
      "source": [
        "# Let's consider a real-life scenario where you are analyzing customer feedback for a product. You have a large dataset of customer reviews in the form of strings, and you want to extract useful information from them using the three identified tasks:\n",
        "\n",
        "**1. String in lower case:**\n",
        "You want to Pre-process the customer feedback by converting all the text to lowercase. This step helps standardize the text. Lower casing the text allows you to focus on the content rather than the specific letter casing.\n",
        "\n",
        "**2. Frequency of all words in a given string:**\n",
        "After converting the text to lowercase, you want to determine the frequency of each word in the customer feedback. This information will help you identify which words are used more frequently, indicating the key aspects or topics that customers are mentioning in their reviews. By analyzing the word frequencies, you can gain insights into the most common issues raised by customers.\n",
        "\n",
        "**3. Frequency of a specific word:**\n",
        "In addition to analyzing the overall word frequencies, you want to specifically track the frequency of a particular word that is relevant to your analysis. For example, you might be interested in monitoring how often the word \"reliable\" appears in the customer reviews to gauge customer sentiment about the product's reliability. By focusing on the frequency of a specific word, you can gain a deeper understanding of customer opinions or preferences related to that particular aspect.\n",
        "\n",
        "By performing these tasks on the customer feedback dataset, you can gain valuable insights into customer sentiment\n"
      ]
    },
    {
      "cell_type": "markdown",
      "metadata": {
        "id": "Uqmndw7MbGEz"
      },
      "source": [
        "----\n"
      ]
    },
    {
      "cell_type": "markdown",
      "metadata": {
        "id": "-EwoGH95bGE0"
      },
      "source": [
        "## Below is the given string\n"
      ]
    },
    {
      "cell_type": "code",
      "execution_count": 1,
      "metadata": {
        "tags": [],
        "id": "dONJbEwmbGE0"
      },
      "outputs": [],
      "source": [
        "givenstring=\"Lorem ipsum dolor! diam amet, consetetur Lorem magna. sed diam nonumy eirmod tempor. diam et labore? et diam magna. et diam amet.\""
      ]
    },
    {
      "cell_type": "markdown",
      "metadata": {
        "id": "u_vOw6yWbGE1"
      },
      "source": [
        "### For achieving the above 3 task, We need to create a class with 3 different methods.\n"
      ]
    },
    {
      "cell_type": "markdown",
      "metadata": {
        "id": "P74yq9vwbGE1"
      },
      "source": [
        "##### Follow the intruction given in each task and create a class with different methods\n"
      ]
    },
    {
      "cell_type": "markdown",
      "metadata": {
        "id": "0nbZSlkFbGE1"
      },
      "source": [
        "# Task-1 Define the class and its attributes:\n"
      ]
    },
    {
      "cell_type": "markdown",
      "metadata": {
        "id": "P4BGK2PqbGE1"
      },
      "source": [
        "1. Create a class named TextAnalyzer.\n",
        "2. Define the constructor `__init__` method that takes a text argument.\n"
      ]
    },
    {
      "cell_type": "code",
      "execution_count": 2,
      "metadata": {
        "tags": [],
        "id": "eF5ajwQTbGE2"
      },
      "outputs": [],
      "source": [
        "# type your code here\n",
        "class TextAnalyzer(object):\n",
        "    def __init__(self, text):\n",
        "        return"
      ]
    },
    {
      "cell_type": "markdown",
      "metadata": {
        "id": "T4YT_C4sbGE2"
      },
      "source": [
        "<details><summary>Click here for the solution</summary>\n",
        "\n",
        "```python\n",
        "class TextAnalyzer(object):\n",
        "    def __init__(self, text):\n",
        "\n",
        "\n",
        "```\n",
        "\n",
        "</details>\n"
      ]
    },
    {
      "cell_type": "markdown",
      "metadata": {
        "id": "kh9oFbyQbGE2"
      },
      "source": [
        "----\n"
      ]
    },
    {
      "cell_type": "markdown",
      "metadata": {
        "id": "1eS0jekwbGE2"
      },
      "source": [
        "# Task-2 Formatting the text:\n"
      ]
    },
    {
      "cell_type": "markdown",
      "metadata": {
        "id": "JFgTx5g4bGE2"
      },
      "source": [
        "1. Inside the constructor, convert the text argument to lowercase using the `lower()` method.\n",
        "2. Remove punctuation marks (periods, exclamation marks, commas, and question marks) from the text using the `replace()` method.\n",
        "3. Assign the formatted text to a new attribute called fmtText.\n",
        "\n",
        "**Update the above `TextAnalyzer` class with points mentioned above.**\n"
      ]
    },
    {
      "cell_type": "code",
      "execution_count": 3,
      "metadata": {
        "tags": [],
        "id": "kMe7ntXUbGE2"
      },
      "outputs": [],
      "source": [
        "# Type your code here\n",
        "class TextAnalzer(object):\n",
        "\n",
        "    def __init__ (self, text):\n",
        "        # remove punctuation\n",
        "        formattedText = text.replace('.','').replace('!','').replace('?','').replace(',','')\n",
        "\n",
        "        # make text lowercase\n",
        "        formattedText = formattedText.lower()\n",
        "\n",
        "        self.fmtText = formattedText"
      ]
    },
    {
      "cell_type": "markdown",
      "metadata": {
        "id": "2nE7iOC_bGE3"
      },
      "source": [
        "<details><summary>Click here for the solution</summary>\n",
        "\n",
        "```python\n",
        "class TextAnalzer(object):\n",
        "\n",
        "    def __init__ (self, text):\n",
        "        # remove punctuation\n",
        "        formattedText = text.replace('.','').replace('!','').replace('?','').replace(',','')\n",
        "\n",
        "        # make text lowercase\n",
        "        formattedText = formattedText.lower()\n",
        "\n",
        "        self.fmtText = formattedText\n",
        "\n",
        "\n",
        "```\n",
        "\n",
        "</details>\n"
      ]
    },
    {
      "cell_type": "markdown",
      "metadata": {
        "id": "TSYwPWlwbGE3"
      },
      "source": [
        "----\n"
      ]
    },
    {
      "cell_type": "markdown",
      "metadata": {
        "id": "RaKrZAOWbGE3"
      },
      "source": [
        "# Task-3 Frequency of all unique words:\n"
      ]
    },
    {
      "cell_type": "markdown",
      "metadata": {
        "id": "Ctv_6oQ1bGE3"
      },
      "source": [
        "* Implement the `freqAll()` method:\n",
        "     1. Split the fmtText attribute into individual words using the `split()` method.\n",
        "     2. Create an empty dictionary to store the word frequency.\n",
        "     3. Iterate over the list of words and update the frequency dictionary accordingly.\n",
        "     4. use `count` method for counting the occurence\n",
        "     5. Return the frequency dictionary.\n",
        "\n",
        "**Update the above `TextAnalyzer` class with points mentioned above.**\n"
      ]
    },
    {
      "cell_type": "code",
      "execution_count": 4,
      "metadata": {
        "tags": [],
        "id": "3ORonoTbbGE3"
      },
      "outputs": [],
      "source": [
        "# type your code here\n",
        "class TextAnalyzer(object):\n",
        "\n",
        "    def __init__ (self, text):\n",
        "        # remove punctuation\n",
        "        formattedText = text.replace('.','').replace('!','').replace('?','').replace(',','')\n",
        "\n",
        "        # make text lowercase\n",
        "        formattedText = formattedText.lower()\n",
        "\n",
        "        self.fmtText = formattedText\n",
        "\n",
        "    def freqAll(self):\n",
        "        # split text into words\n",
        "        wordList = self.fmtText.split(' ')\n",
        "\n",
        "        # Create dictionary\n",
        "        freqMap = {}\n",
        "        for word in set(wordList): # use set to remove duplicates in list\n",
        "            freqMap[word] = wordList.count(word)\n",
        "\n",
        "        return freqMap"
      ]
    },
    {
      "cell_type": "markdown",
      "metadata": {
        "id": "eBHn3rj1bGE3"
      },
      "source": [
        "<details><summary>Click here for the solution</summary>\n",
        "\n",
        "```python\n",
        "class TextAnalyzer(object):\n",
        "\n",
        "    def __init__ (self, text):\n",
        "        # remove punctuation\n",
        "        formattedText = text.replace('.','').replace('!','').replace('?','').replace(',','')\n",
        "\n",
        "        # make text lowercase\n",
        "        formattedText = formattedText.lower()\n",
        "\n",
        "        self.fmtText = formattedText\n",
        "\n",
        "    def freqAll(self):\n",
        "        # split text into words\n",
        "        wordList = self.fmtText.split(' ')\n",
        "\n",
        "        # Create dictionary\n",
        "        freqMap = {}\n",
        "        for word in set(wordList): # use set to remove duplicates in list\n",
        "            freqMap[word] = wordList.count(word)\n",
        "\n",
        "        return freqMap\n",
        "\n",
        "\n",
        "```\n",
        "\n",
        "</details>\n"
      ]
    },
    {
      "cell_type": "markdown",
      "metadata": {
        "id": "ZE2ApCoHbGE3"
      },
      "source": [
        "----\n"
      ]
    },
    {
      "cell_type": "markdown",
      "metadata": {
        "id": "Bf_Yd8sfbGE4"
      },
      "source": [
        "# Task-4 Frequency of a specific word:\n"
      ]
    },
    {
      "cell_type": "markdown",
      "metadata": {
        "id": "bUzljOpnbGE4"
      },
      "source": [
        "* Implement the `freqOf(word)` method that takes a word argument:\n",
        "   1. create method and pass the word that need to be found\n",
        "   2. get the `freqAll` method for look for count and check if that word is in the list.\n",
        "   3. Return the count.\n",
        "\n",
        "**Update the above `TextAnalyzer` class with points mentioned above.**\n"
      ]
    },
    {
      "cell_type": "code",
      "execution_count": 5,
      "metadata": {
        "tags": [],
        "id": "nAqoeRq8bGE4"
      },
      "outputs": [],
      "source": [
        "# type your code here\n",
        "class TextAnalyzer(object):\n",
        "\n",
        "    def __init__ (self, text):\n",
        "        # remove punctuation\n",
        "        formattedText = text.replace('.','').replace('!','').replace('?','').replace(',','')\n",
        "\n",
        "        # make text lowercase\n",
        "        formattedText = formattedText.lower()\n",
        "\n",
        "        self.fmtText = formattedText\n",
        "\n",
        "    def freqAll(self):\n",
        "        # split text into words\n",
        "        wordList = self.fmtText.split(' ')\n",
        "\n",
        "        # Create dictionary\n",
        "        freqMap = {}\n",
        "        for word in set(wordList): # use set to remove duplicates in list\n",
        "            freqMap[word] = wordList.count(word)\n",
        "\n",
        "        return freqMap\n",
        "\n",
        "    def freqOf(self,word):\n",
        "        # get frequency map\n",
        "        freqDict = self.freqAll()\n",
        "\n",
        "        if word in freqDict:\n",
        "            return freqDict[word]\n",
        "        else:\n",
        "            return 0"
      ]
    },
    {
      "cell_type": "markdown",
      "metadata": {
        "id": "B7y0k-nqbGE4"
      },
      "source": [
        "<details><summary>Click here for the solution</summary>\n",
        "\n",
        "```python\n",
        "class TextAnalyzer(object):\n",
        "\n",
        "    def __init__ (self, text):\n",
        "        # remove punctuation\n",
        "        formattedText = text.replace('.','').replace('!','').replace('?','').replace(',','')\n",
        "\n",
        "        # make text lowercase\n",
        "        formattedText = formattedText.lower()\n",
        "\n",
        "        self.fmtText = formattedText\n",
        "\n",
        "    def freqAll(self):\n",
        "        # split text into words\n",
        "        wordList = self.fmtText.split(' ')\n",
        "\n",
        "        # Create dictionary\n",
        "        freqMap = {}\n",
        "        for word in set(wordList): # use set to remove duplicates in list\n",
        "            freqMap[word] = wordList.count(word)\n",
        "\n",
        "        return freqMap\n",
        "\n",
        "    def freqOf(self,word):\n",
        "        # get frequency map\n",
        "        freqDict = self.freqAll()\n",
        "\n",
        "        if word in freqDict:\n",
        "            return freqDict[word]\n",
        "        else:\n",
        "            return 0\n",
        "\n",
        "\n",
        "```\n",
        "\n",
        "</details>\n"
      ]
    },
    {
      "cell_type": "markdown",
      "metadata": {
        "id": "c72neK2VbGE4"
      },
      "source": [
        "## Now, We have successfully created a class with 3 methods\n"
      ]
    },
    {
      "cell_type": "markdown",
      "metadata": {
        "id": "QL740e1bbGE4"
      },
      "source": [
        "## Task-5 Create an instance of TextAnalyzer Class.\n"
      ]
    },
    {
      "cell_type": "code",
      "execution_count": 6,
      "metadata": {
        "tags": [],
        "id": "HFL_C5fabGE4"
      },
      "outputs": [],
      "source": [
        "# type your code here\n",
        "analyzed = TextAnalyzer(givenstring)"
      ]
    },
    {
      "cell_type": "markdown",
      "metadata": {
        "id": "9Y5ablzsbGE5"
      },
      "source": [
        "<details><summary>Click here for the solution</summary>\n",
        "\n",
        "```python\n",
        "analyzed = TextAnalyzer(givenstring)\n",
        "```\n",
        "\n",
        "</details>\n"
      ]
    },
    {
      "cell_type": "markdown",
      "metadata": {
        "id": "TcnBD5eVbGE5"
      },
      "source": [
        "## Task-6 Print the formatted text(lower case string)\n"
      ]
    },
    {
      "cell_type": "code",
      "execution_count": 7,
      "metadata": {
        "tags": [],
        "id": "8XIP2PklbGE5",
        "outputId": "6dc4246f-d097-4dca-eefb-24cd50831bc1",
        "colab": {
          "base_uri": "https://localhost:8080/"
        }
      },
      "outputs": [
        {
          "output_type": "stream",
          "name": "stdout",
          "text": [
            "Formatted Text: lorem ipsum dolor diam amet consetetur lorem magna sed diam nonumy eirmod tempor diam et labore et diam magna et diam amet\n"
          ]
        }
      ],
      "source": [
        "# type your code here\n",
        "print(\"Formatted Text:\", analyzed.fmtText)"
      ]
    },
    {
      "cell_type": "markdown",
      "metadata": {
        "id": "UIpZwHkxbGE-"
      },
      "source": [
        "<details><summary>Click here for the solution</summary>\n",
        "\n",
        "```python\n",
        "print(\"Formatted Text:\", analyzed.fmtText)\n",
        "```\n",
        "\n",
        "</details>\n"
      ]
    },
    {
      "cell_type": "markdown",
      "metadata": {
        "id": "hF3VylgzbGE-"
      },
      "source": [
        "## Task-7 Test freqAll() method\n"
      ]
    },
    {
      "cell_type": "code",
      "execution_count": 8,
      "metadata": {
        "tags": [],
        "id": "QjLN8wAMbGE-",
        "outputId": "d0346d58-83e4-42e1-b67e-4dd37f3a0594",
        "colab": {
          "base_uri": "https://localhost:8080/"
        }
      },
      "outputs": [
        {
          "output_type": "stream",
          "name": "stdout",
          "text": [
            "{'magna': 2, 'sed': 1, 'et': 3, 'dolor': 1, 'amet': 2, 'diam': 5, 'tempor': 1, 'lorem': 2, 'eirmod': 1, 'consetetur': 1, 'labore': 1, 'ipsum': 1, 'nonumy': 1}\n"
          ]
        }
      ],
      "source": [
        "# type your code here\n",
        "freqMap = analyzed.freqAll()\n",
        "print(freqMap)"
      ]
    },
    {
      "cell_type": "markdown",
      "metadata": {
        "id": "v8bv8dO9bGE_"
      },
      "source": [
        "<details><summary>Click here for the solution</summary>\n",
        "\n",
        "```python\n",
        "freqMap = analyzed.freqAll()\n",
        "print(freqMap)\n",
        "```\n",
        "\n",
        "</details>\n"
      ]
    },
    {
      "cell_type": "markdown",
      "metadata": {
        "id": "GQFnY-2ybGE_"
      },
      "source": [
        "## Task-8 Test freqOf() method\n",
        "you have to find the frequency of the following words:-\n",
        "1. \"lorem\"\n",
        "2. \"diam\"\n",
        "3. \"et\"\n",
        "<br>\n",
        "\n",
        "print the output using **formatting**\n"
      ]
    },
    {
      "cell_type": "code",
      "execution_count": 9,
      "metadata": {
        "tags": [],
        "id": "fB-Af30EbGE_",
        "outputId": "8fca6328-17c6-495f-a464-14be9cf80764",
        "colab": {
          "base_uri": "https://localhost:8080/"
        }
      },
      "outputs": [
        {
          "output_type": "stream",
          "name": "stdout",
          "text": [
            "The word 'lorem' appears 2 times.\n",
            "The word 'diam' appears 5 times.\n",
            "The word 'et' appears 3 times.\n"
          ]
        }
      ],
      "source": [
        "# type your code here\n",
        "words = ['lorem', 'diam', 'et']\n",
        "for word in words:\n",
        "    print(f\"The word '{word}' appears {analyzed.freqOf(word)} times.\")"
      ]
    },
    {
      "cell_type": "markdown",
      "metadata": {
        "id": "VAjIT89KbGFA"
      },
      "source": [
        "<details><summary>Click here for the solution</summary>\n",
        "\n",
        "```python\n",
        "word = \"lorem\"\n",
        "frequency = analyzed.freqOf(word)\n",
        "print(f\"The word '{word}' appears {frequency} times.\")\n",
        "```\n",
        "\n",
        "</details>\n"
      ]
    },
    {
      "cell_type": "markdown",
      "metadata": {
        "id": "yKbLw8OQbGFA"
      },
      "source": [
        "<details><summary>Click here for the solution</summary>\n",
        "\n",
        "```python\n",
        "word = \"diam\"\n",
        "frequency = analyzed.freqOf(word)\n",
        "print(f\"The word '{word}' appears {frequency} times.\")\n",
        "```\n",
        "\n",
        "</details>\n"
      ]
    },
    {
      "cell_type": "markdown",
      "metadata": {
        "id": "HZnaOgDCbGFA"
      },
      "source": [
        "<details><summary>Click here for the solution</summary>\n",
        "\n",
        "```python\n",
        "word = \"et\"\n",
        "frequency = analyzed.freqOf(word)\n",
        "print(f\"The word '{word}' appears {frequency} times.\")\n",
        "```\n",
        "\n",
        "</details>\n"
      ]
    },
    {
      "cell_type": "markdown",
      "metadata": {
        "id": "HyxYtWEQbGFA"
      },
      "source": [
        "----\n"
      ]
    },
    {
      "cell_type": "markdown",
      "metadata": {
        "id": "rMiMcMAnbGFA"
      },
      "source": [
        "## Authors\n"
      ]
    },
    {
      "cell_type": "markdown",
      "metadata": {
        "id": "RgYF3ARYbGFA"
      },
      "source": [
        "Author1 <br>\n",
        "**Akansha yadav**\n"
      ]
    },
    {
      "cell_type": "markdown",
      "metadata": {
        "id": "NungTBrfbGFB"
      },
      "source": [
        "### Other Contributors\n"
      ]
    },
    {
      "cell_type": "markdown",
      "metadata": {
        "id": "ijimINl8bGFB"
      },
      "source": [
        "[Contributor with Link](contributor_linl), Contributor No Link\n"
      ]
    },
    {
      "cell_type": "markdown",
      "metadata": {
        "id": "VcsEx7-ibGFB"
      },
      "source": [
        "## Change Log\n"
      ]
    },
    {
      "cell_type": "markdown",
      "metadata": {
        "id": "IRJtbuMTbGFB"
      },
      "source": [
        "|Date (YYYY-MM-DD)|Version|Changed By|Change Description|\n",
        "|-|-|-|-|\n",
        "|2023-05-17|0.3|Akansha yadav| Created lab under maintenance|\n",
        "|2020-07-17|0.1|Sam     |Create Lab Template|\n",
        "|2022-11-19|0.2|Shengkai|Update Lab Template|\n"
      ]
    },
    {
      "cell_type": "markdown",
      "metadata": {
        "id": "q8au7MkzbGFB"
      },
      "source": [
        "Copyright © 2022 IBM Corporation. All rights reserved.\n"
      ]
    }
  ],
  "metadata": {
    "kernelspec": {
      "display_name": "Python",
      "language": "python",
      "name": "conda-env-python-py"
    },
    "language_info": {
      "codemirror_mode": {
        "name": "ipython",
        "version": 3
      },
      "file_extension": ".py",
      "mimetype": "text/x-python",
      "name": "python",
      "nbconvert_exporter": "python",
      "pygments_lexer": "ipython3",
      "version": "3.7.12"
    },
    "colab": {
      "provenance": [],
      "include_colab_link": true
    }
  },
  "nbformat": 4,
  "nbformat_minor": 0
}